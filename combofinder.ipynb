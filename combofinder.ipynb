{
  "nbformat": 4,
  "nbformat_minor": 0,
  "metadata": {
    "colab": {
      "provenance": [],
      "authorship_tag": "ABX9TyNBOEgEcN3+TbvWrwtMRbkW",
      "include_colab_link": true
    },
    "kernelspec": {
      "name": "python3",
      "display_name": "Python 3"
    },
    "language_info": {
      "name": "python"
    }
  },
  "cells": [
    {
      "cell_type": "markdown",
      "metadata": {
        "id": "view-in-github",
        "colab_type": "text"
      },
      "source": [
        "<a href=\"https://colab.research.google.com/github/anantsingh1218/Combo_Finder/blob/main/combofinder.ipynb\" target=\"_parent\"><img src=\"https://colab.research.google.com/assets/colab-badge.svg\" alt=\"Open In Colab\"/></a>"
      ]
    },
    {
      "cell_type": "code",
      "execution_count": 2,
      "metadata": {
        "colab": {
          "base_uri": "https://localhost:8080/"
        },
        "id": "qr2Qn4z-fuwg",
        "outputId": "d0a00dff-52f5-4e6e-bb38-ad8d3ff0ed94"
      },
      "outputs": [
        {
          "output_type": "stream",
          "name": "stdout",
          "text": [
            "done\n",
            "('p10', 'p5', 'p4', 'p9', 'p8', 'p7', 'p14')\n",
            "('p7', 'p8', 'p4', 'p6', 'p11', 'p12')\n",
            "('p9', 'p3', 'p12', 'p10', 'p5', 'p4', 'p8')\n",
            "('p6', 'p7', 'p14', 'p8', 'p13', 'p11')\n",
            "('p6', 'p1', 'p7', 'p9', 'p5', 'p12', 'p14')\n",
            "('p12', 'p5', 'p14', 'p9', 'p8', 'p6', 'p1')\n",
            "('p10', 'p5', 'p9', 'p7', 'p1', 'p13', 'p2')\n",
            "('p3', 'p10', 'p7', 'p1', 'p2', 'p9', 'p12', 'p4')\n",
            "('p1', 'p8', 'p4', 'p13', 'p6', 'p14', 'p12')\n",
            "('p14', 'p6', 'p4', 'p10', 'p13', 'p12')\n",
            "('p7', 'p13', 'p9', 'p4', 'p14', 'p3', 'p2', 'p5')\n",
            "('p8', 'p6', 'p4', 'p10', 'p5', 'p11', 'p14')\n",
            "('p8', 'p12', 'p1', 'p10', 'p6', 'p13', 'p3')\n",
            "('p8', 'p7', 'p6', 'p4', 'p9', 'p2', 'p10', 'p3')\n",
            "('p10', 'p7', 'p5', 'p14', 'p6', 'p13')\n",
            "('p5', 'p1', 'p7', 'p9', 'p4', 'p11', 'p10')\n",
            "('p6', 'p12', 'p11', 'p8', 'p4', 'p10')\n",
            "('p11', 'p12', 'p4', 'p6', 'p14', 'p10')\n",
            "('p2', 'p5', 'p1', 'p3', 'p7', 'p8', 'p10', 'p12')\n",
            "('p7', 'p12', 'p4', 'p3', 'p8', 'p10', 'p1', 'p5')\n",
            "('p10', 'p4', 'p13', 'p5', 'p8', 'p14', 'p6')\n",
            "('p10', 'p6', 'p4', 'p5', 'p3', 'p12', 'p2', 'p7')\n",
            "('p9', 'p12', 'p14', 'p11', 'p7')\n",
            "('p6', 'p7', 'p14', 'p8', 'p9', 'p1', 'p10')\n",
            "('p10', 'p12', 'p9', 'p2', 'p7', 'p6')\n",
            "('p3', 'p12', 'p4', 'p14', 'p1', 'p9', 'p7', 'p5')\n",
            "('p13', 'p9', 'p11', 'p10', 'p4', 'p6')\n",
            "('p12', 'p1', 'p13', 'p11', 'p4', 'p6', 'p5')\n",
            "('p11', 'p4', 'p9', 'p2', 'p1', 'p3', 'p12', 'p14')\n",
            "('p14', 'p8', 'p7', 'p2', 'p13', 'p10', 'p4')\n",
            "('p13', 'p4', 'p12', 'p7', 'p11', 'p1')\n",
            "('p8', 'p14', 'p10', 'p4', 'p1', 'p11', 'p9')\n",
            "('p10', 'p14', 'p11', 'p2', 'p3', 'p1', 'p4', 'p13')\n",
            "('p6', 'p4', 'p5', 'p9', 'p13', 'p1', 'p8', 'p14')\n",
            "('p3', 'p7', 'p6', 'p8', 'p5', 'p12', 'p9')\n",
            "('p12', 'p14', 'p13', 'p9', 'p11')\n",
            "('p14', 'p11', 'p10', 'p1', 'p3', 'p12', 'p4')\n",
            "('p5', 'p14', 'p11', 'p3', 'p2', 'p13', 'p9')\n",
            "('p5', 'p10', 'p12', 'p3', 'p9', 'p11')\n",
            "('p13', 'p8', 'p9', 'p2', 'p12', 'p7')\n",
            "('p1', 'p7', 'p11', 'p10', 'p5', 'p6', 'p14')\n",
            "('p10', 'p9', 'p3', 'p8', 'p1', 'p14', 'p7', 'p4')\n",
            "('p4', 'p7', 'p3', 'p6', 'p8', 'p9', 'p11')\n",
            "('p5', 'p12', 'p11', 'p14', 'p1', 'p4', 'p3', 'p8')\n",
            "('p8', 'p5', 'p11', 'p1', 'p2', 'p9', 'p12')\n",
            "('p7', 'p12', 'p5', 'p10', 'p4', 'p3', 'p6')\n",
            "\n",
            " total sets : 46 \n",
            "\n"
          ]
        }
      ],
      "source": [
        "import random as r\n",
        "productlist={'p1':10, 'p2':15, 'p3':20, 'p4':25, 'p5':30, 'p6':35, 'p7':50,\n",
        "               'p8':40, 'p9':55, 'p10':60, 'p11':65, 'p12':75, 'p13':70,\n",
        "               'p14':45}\n",
        "LB=290\n",
        "UB=310\n",
        "resultlist=set() #list of sets whose sum is between bounds\n",
        "iterations=1000\n",
        "for i in range(iterations):\n",
        "  setsize=r.randint(2, len(productlist)-1)\n",
        "  combolist=r.sample(list(productlist.keys()),setsize)\n",
        "  combosum=sum([productlist[i]for i in combolist])\n",
        "  if combosum>=LB and combosum<=UB:\n",
        "    resultlist.add(tuple(combolist))\n",
        "print(\"done\")\n",
        "for r in resultlist:\n",
        "  print(r)\n",
        "print(\"\\n total sets :\", len(resultlist),\"\\n\")\n",
        "\n",
        "\n"
      ]
    }
  ]
}